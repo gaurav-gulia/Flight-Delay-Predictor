{
 "cells": [
  {
   "cell_type": "code",
   "execution_count": 1,
   "id": "4f063f9c-b28f-44d1-a716-e3c34be7f607",
   "metadata": {},
   "outputs": [],
   "source": [
    "import pandas as pd\n",
    "import numpy as np"
   ]
  },
  {
   "cell_type": "code",
   "execution_count": 2,
   "id": "b6dd00fa-a8b0-42b9-b27b-457eff9daebe",
   "metadata": {},
   "outputs": [
    {
     "name": "stderr",
     "output_type": "stream",
     "text": [
      "/home/ec2-user/anaconda3/envs/python3/lib/python3.10/site-packages/fsspec/registry.py:283: UserWarning: Your installed version of s3fs is very old and known to cause\n",
      "severe performance issues, see also https://github.com/dask/dask/issues/10276\n",
      "\n",
      "To fix, you should specify a lower version bound on s3fs, or\n",
      "update the current installation.\n",
      "\n",
      "  warnings.warn(s3_msg)\n"
     ]
    }
   ],
   "source": [
    "df=pd.read_parquet(\"s3://group1projectbucket2/cleanparquet/2018.snappy.parquet\")"
   ]
  },
  {
   "cell_type": "code",
   "execution_count": 3,
   "id": "d66be3f9-1d5d-424c-8028-1e614a1e1898",
   "metadata": {},
   "outputs": [
    {
     "name": "stdout",
     "output_type": "stream",
     "text": [
      "(5578618, 61)\n"
     ]
    }
   ],
   "source": [
    "print(df.shape)"
   ]
  },
  {
   "cell_type": "code",
   "execution_count": 4,
   "id": "9ad3f023-e8d7-495c-a848-7bb53d79ac33",
   "metadata": {},
   "outputs": [
    {
     "data": {
      "text/plain": [
       "Index(['FlightDate', 'Airline', 'Origin', 'Dest', 'Cancelled', 'Diverted',\n",
       "       'CRSDepTime', 'DepTime', 'DepDelayMinutes', 'DepDelay', 'ArrTime',\n",
       "       'ArrDelayMinutes', 'AirTime', 'CRSElapsedTime', 'ActualElapsedTime',\n",
       "       'Distance', 'Year', 'Quarter', 'Month', 'DayofMonth', 'DayOfWeek',\n",
       "       'Marketing_Airline_Network', 'Operated_or_Branded_Code_Share_Partners',\n",
       "       'DOT_ID_Marketing_Airline', 'IATA_Code_Marketing_Airline',\n",
       "       'Flight_Number_Marketing_Airline', 'Operating_Airline',\n",
       "       'DOT_ID_Operating_Airline', 'IATA_Code_Operating_Airline',\n",
       "       'Tail_Number', 'Flight_Number_Operating_Airline', 'OriginAirportID',\n",
       "       'OriginAirportSeqID', 'OriginCityMarketID', 'OriginCityName',\n",
       "       'OriginState', 'OriginStateFips', 'OriginStateName', 'OriginWac',\n",
       "       'DestAirportID', 'DestAirportSeqID', 'DestCityMarketID', 'DestCityName',\n",
       "       'DestState', 'DestStateFips', 'DestStateName', 'DestWac', 'DepDel15',\n",
       "       'DepartureDelayGroups', 'DepTimeBlk', 'TaxiOut', 'WheelsOff',\n",
       "       'WheelsOn', 'TaxiIn', 'CRSArrTime', 'ArrDelay', 'ArrDel15',\n",
       "       'ArrivalDelayGroups', 'ArrTimeBlk', 'DistanceGroup',\n",
       "       'DivAirportLandings'],\n",
       "      dtype='object')"
      ]
     },
     "execution_count": 4,
     "metadata": {},
     "output_type": "execute_result"
    }
   ],
   "source": [
    "df.columns"
   ]
  },
  {
   "cell_type": "code",
   "execution_count": 5,
   "id": "bfe35700-d480-4ccf-98d6-d972e66744dd",
   "metadata": {},
   "outputs": [
    {
     "name": "stdout",
     "output_type": "stream",
     "text": [
      "        FlightDate                      Airline Origin Dest  Cancelled  \\\n",
      "0       2018-01-23            Endeavor Air Inc.    ABY  ATL      False   \n",
      "1       2018-01-24            Endeavor Air Inc.    ABY  ATL      False   \n",
      "2       2018-01-25            Endeavor Air Inc.    ABY  ATL      False   \n",
      "3       2018-01-26            Endeavor Air Inc.    ABY  ATL      False   \n",
      "4       2018-01-27            Endeavor Air Inc.    ABY  ATL      False   \n",
      "...            ...                          ...    ...  ...        ...   \n",
      "5578613 2018-09-11  Air Wisconsin Airlines Corp    SCE  IAD      False   \n",
      "5578614 2018-09-11  Air Wisconsin Airlines Corp    IAD  GSO      False   \n",
      "5578615 2018-09-11  Air Wisconsin Airlines Corp    EVV  ORD      False   \n",
      "5578616 2018-09-11  Air Wisconsin Airlines Corp    ORD  HPN      False   \n",
      "5578617 2018-09-11  Air Wisconsin Airlines Corp    HPN  ORD      False   \n",
      "\n",
      "         Diverted  SchdDepTime  DepTime  DepDelayMinutes  DepDelay  ...  \\\n",
      "0           False         1202   1157.0              0.0      -5.0  ...   \n",
      "1           False         1202   1157.0              0.0      -5.0  ...   \n",
      "2           False         1202   1153.0              0.0      -9.0  ...   \n",
      "3           False         1202   1150.0              0.0     -12.0  ...   \n",
      "4           False         1400   1355.0              0.0      -5.0  ...   \n",
      "...           ...          ...      ...              ...       ...  ...   \n",
      "5578613     False         1445   1433.0              0.0     -12.0  ...   \n",
      "5578614     False         1235   1224.0              0.0     -11.0  ...   \n",
      "5578615     False         1030   1016.0              0.0     -14.0  ...   \n",
      "5578616     False         1410   1403.0              0.0      -7.0  ...   \n",
      "5578617     False         1800   1754.0              0.0      -6.0  ...   \n",
      "\n",
      "         WheelsOff  WheelsOn  TaxiIn  SchdArrTime  ArrDelay  ArrDel15  \\\n",
      "0           1211.0    1249.0     7.0         1304      -8.0       0.0   \n",
      "1           1210.0    1246.0    12.0         1304      -6.0       0.0   \n",
      "2           1211.0    1251.0    11.0         1304      -2.0       0.0   \n",
      "3           1207.0    1242.0    11.0         1304     -11.0       0.0   \n",
      "4           1412.0    1448.0    11.0         1500      -1.0       0.0   \n",
      "...            ...       ...     ...          ...       ...       ...   \n",
      "5578613     1437.0    1512.0     3.0         1546     -31.0       0.0   \n",
      "5578614     1254.0    1337.0     7.0         1355     -11.0       0.0   \n",
      "5578615     1036.0    1130.0     7.0         1204     -27.0       0.0   \n",
      "5578616     1428.0    1712.0     5.0         1726      -9.0       0.0   \n",
      "5578617     1808.0    1904.0    15.0         1933     -14.0       0.0   \n",
      "\n",
      "         ArrivalDelayGroups  ArrTimeBlk  DistanceGroup  DivAirportLandings  \n",
      "0                      -1.0   1300-1359              1                 0.0  \n",
      "1                      -1.0   1300-1359              1                 0.0  \n",
      "2                      -1.0   1300-1359              1                 0.0  \n",
      "3                      -1.0   1300-1359              1                 0.0  \n",
      "4                      -1.0   1500-1559              1                 0.0  \n",
      "...                     ...         ...            ...                 ...  \n",
      "5578613                -2.0   1500-1559              1                 0.0  \n",
      "5578614                -1.0   1300-1359              1                 0.0  \n",
      "5578615                -2.0   1200-1259              2                 0.0  \n",
      "5578616                -1.0   1700-1759              3                 0.0  \n",
      "5578617                -1.0   1900-1959              3                 0.0  \n",
      "\n",
      "[5578618 rows x 61 columns]\n"
     ]
    }
   ],
   "source": [
    "rename_dict = {\n",
    "    \"CRSArrTime\": \"SchdArrTime\",\n",
    "    \"CRSDepTime\": \"SchdDepTime\",\n",
    "    \"CRSElapsedTime\": \"SchdElapsedTime\"\n",
    "}\n",
    "\n",
    "# Rename columns\n",
    "df.rename(columns=rename_dict, inplace=True)\n",
    "\n",
    "# Show updated DataFrame\n",
    "print(df)"
   ]
  },
  {
   "cell_type": "code",
   "execution_count": 6,
   "id": "58c87034-00d6-4d5a-87df-166db6aa5322",
   "metadata": {},
   "outputs": [],
   "source": [
    "import pandas as pd\n",
    "import numpy as np\n",
    "\n",
    "# Assuming df is your Pandas DataFrame\n",
    "\n",
    "# Ensure SchdDepTime is a string with 4 digits (left pad with zeros if needed)\n",
    "df['SchdDepTime'] = df['SchdDepTime'].astype(str).str.zfill(4)\n",
    "\n",
    "# Extract SchdDepHour (first two digits of SchdDepTime)\n",
    "df['SchdDepHour'] = df['SchdDepTime'].str[:2].astype(int)\n",
    "\n",
    "# Categorize into different time periods of the day\n",
    "df['SchdDepTimeOfDay'] = np.select(\n",
    "    [\n",
    "        (df['SchdDepHour'] >= 0) & (df['SchdDepHour'] < 6),\n",
    "        (df['SchdDepHour'] >= 6) & (df['SchdDepHour'] < 12),\n",
    "        (df['SchdDepHour'] >= 12) & (df['SchdDepHour'] < 18)\n",
    "    ],\n",
    "    ['Night', 'Morning', 'Afternoon'],\n",
    "    default='Evening'\n",
    ")\n",
    "\n",
    "# Categorize DelayCategory based on ArrDelayMinutes\n",
    "df['DelayCategory'] = np.select(\n",
    "    [\n",
    "        df['ArrDelayMinutes'] < 6,\n",
    "        (df['ArrDelayMinutes'] >= 6) & (df['ArrDelayMinutes'] < 30),\n",
    "        (df['ArrDelayMinutes'] >= 30) & (df['ArrDelayMinutes'] < 60),\n",
    "        (df['ArrDelayMinutes'] >= 60) & (df['ArrDelayMinutes'] < 120)\n",
    "    ],\n",
    "    ['No Delay', 'Short Delay', 'Medium Delay', 'Long Delay'],\n",
    "    default='Very Long Delay'\n",
    ")\n"
   ]
  },
  {
   "cell_type": "code",
   "execution_count": 8,
   "id": "3004b8f9-074f-47b6-94cf-2955c417c635",
   "metadata": {},
   "outputs": [
    {
     "data": {
      "text/plain": [
       "No Delay           4008333\n",
       "Short Delay         881882\n",
       "Medium Delay        328297\n",
       "Long Delay          222237\n",
       "Very Long Delay     137869\n",
       "Name: DelayCategory, dtype: int64"
      ]
     },
     "execution_count": 8,
     "metadata": {},
     "output_type": "execute_result"
    }
   ],
   "source": [
    "df['DelayCategory'].value_counts()\n"
   ]
  },
  {
   "cell_type": "code",
   "execution_count": 9,
   "id": "bebfd674-af01-4743-b718-d781d5a769e2",
   "metadata": {},
   "outputs": [],
   "source": [
    "df[\"IsWeekend\"] = df[\"DayOfWeek\"].apply(lambda x: 1 if x in [6, 7] else 0)"
   ]
  },
  {
   "cell_type": "code",
   "execution_count": 10,
   "id": "a8b798d1-2e03-435f-9477-f439d83a41f7",
   "metadata": {},
   "outputs": [
    {
     "name": "stderr",
     "output_type": "stream",
     "text": [
      "/tmp/ipykernel_8453/264630436.py:7: FutureWarning: The default value of numeric_only in DataFrame.corr is deprecated. In a future version, it will default to False. Select only valid columns or specify the value of numeric_only to silence this warning.\n",
      "  correlation_matrix = df.corr()  # Compute correlation matrix\n"
     ]
    },
    {
     "name": "stdout",
     "output_type": "stream",
     "text": [
      "ArrDelayMinutes                    1.000000\n",
      "ArrDelay                           0.981818\n",
      "DepDelayMinutes                    0.975978\n",
      "DepDelay                           0.971380\n",
      "ArrivalDelayGroups                 0.833438\n",
      "DepartureDelayGroups               0.819356\n",
      "ArrDel15                           0.571491\n",
      "DepDel15                           0.532299\n",
      "TaxiOut                            0.180134\n",
      "DepTime                            0.118045\n",
      "WheelsOff                          0.112448\n",
      "SchdDepHour                        0.085783\n",
      "TaxiIn                             0.083976\n",
      "SchdArrTime                        0.076569\n",
      "DOT_ID_Operating_Airline           0.054421\n",
      "DOT_ID_Marketing_Airline           0.051054\n",
      "ActualElapsedTime                  0.041487\n",
      "WheelsOn                           0.028358\n",
      "ArrTime                            0.021691\n",
      "Flight_Number_Operating_Airline    0.020776\n",
      "Flight_Number_Marketing_Airline    0.020736\n",
      "AirTime                            0.010720\n",
      "OriginStateFips                    0.009016\n",
      "DestStateFips                      0.008292\n",
      "SchdElapsedTime                    0.004310\n",
      "Distance                          -0.000331\n",
      "DistanceGroup                     -0.000336\n",
      "DestAirportSeqID                  -0.002119\n",
      "DestAirportID                     -0.002119\n",
      "DestCityMarketID                  -0.004485\n",
      "OriginCityMarketID                -0.004618\n",
      "Month                             -0.005022\n",
      "Quarter                           -0.005049\n",
      "OriginAirportID                   -0.005293\n",
      "OriginAirportSeqID                -0.005293\n",
      "DayofMonth                        -0.008890\n",
      "DayOfWeek                         -0.009121\n",
      "IsWeekend                         -0.019294\n",
      "OriginWac                         -0.023861\n",
      "DestWac                           -0.026892\n",
      "Cancelled                               NaN\n",
      "Diverted                                NaN\n",
      "Year                                    NaN\n",
      "DivAirportLandings                      NaN\n",
      "Name: ArrDelayMinutes, dtype: float64\n"
     ]
    }
   ],
   "source": [
    "import pandas as pd\n",
    "\n",
    "# Load your dataset (assuming df is your DataFrame)\n",
    "# df = pd.read_csv('your_data.csv')  # Uncomment if reading from a CSV\n",
    "\n",
    "# Compute correlation with 'ArrDelayMinutes'\n",
    "correlation_matrix = df.corr()  # Compute correlation matrix\n",
    "arr_delay_corr = correlation_matrix[\"ArrDelayMinutes\"].sort_values(ascending=False)\n",
    "\n",
    "# Display top correlated features\n",
    "print(arr_delay_corr)\n"
   ]
  },
  {
   "cell_type": "code",
   "execution_count": 11,
   "id": "2c38b5f9-fbed-4aae-97f9-94cbe3b82c6f",
   "metadata": {},
   "outputs": [
    {
     "name": "stdout",
     "output_type": "stream",
     "text": [
      "                                    Feature    F-Value        P-Value\n",
      "19                            DelayCategory        inf   0.000000e+00\n",
      "16                               DepTimeBlk  97.433504   0.000000e+00\n",
      "3                               SchdDepTime  96.807321   0.000000e+00\n",
      "17                               ArrTimeBlk  80.948186   0.000000e+00\n",
      "18                         SchdDepTimeOfDay  55.537955   0.000000e+00\n",
      "7                         Operating_Airline   3.623574   0.000000e+00\n",
      "8               IATA_Code_Operating_Airline   3.623574   0.000000e+00\n",
      "9                               Tail_Number   3.068524  2.777059e-290\n",
      "13                             DestCityName   2.837141  7.979747e-244\n",
      "4                 Marketing_Airline_Network   2.740162  6.226893e-225\n",
      "6               IATA_Code_Marketing_Airline   2.740162  6.226893e-225\n",
      "0                                   Airline   2.291558  6.041408e-143\n",
      "5   Operated_or_Branded_Code_Share_Partners   2.251682  3.689885e-136\n",
      "2                                      Dest   1.963664   3.479566e-90\n",
      "14                                DestState   1.602455   4.642938e-42\n",
      "12                          OriginStateName   1.579395   1.917438e-39\n",
      "11                              OriginState   1.543986   1.492967e-35\n",
      "15                            DestStateName   1.510493   5.126782e-32\n",
      "10                           OriginCityName   1.492745   3.342504e-30\n",
      "1                                    Origin   1.259769   1.001186e-10\n"
     ]
    },
    {
     "name": "stderr",
     "output_type": "stream",
     "text": [
      "/home/ec2-user/anaconda3/envs/python3/lib/python3.10/site-packages/sklearn/feature_selection/_univariate_selection.py:112: RuntimeWarning: divide by zero encountered in divide\n",
      "  f = msb / msw\n"
     ]
    }
   ],
   "source": [
    "import pandas as pd\n",
    "import numpy as np\n",
    "from sklearn.preprocessing import LabelEncoder\n",
    "from sklearn.feature_selection import f_classif\n",
    "\n",
    "# Identify categorical columns\n",
    "categorical_cols = df.select_dtypes(include=['object', 'category']).columns.tolist()\n",
    "\n",
    "# Create a copy of the dataset to avoid modifying the original\n",
    "df_encoded = df.copy()\n",
    "\n",
    "# Apply label encoding to categorical features\n",
    "for col in categorical_cols:\n",
    "    le = LabelEncoder()\n",
    "    df_encoded[col] = le.fit_transform(df_encoded[col].astype(str))  # Convert to string to avoid NaN issues\n",
    "\n",
    "# Compute ANOVA F-statistics between ArrDelayMinutes and encoded categorical variables\n",
    "f_values, p_values = f_classif(df_encoded[categorical_cols], df_encoded['ArrDelayMinutes'])\n",
    "\n",
    "# Create DataFrame to display results\n",
    "anova_results = pd.DataFrame({'Feature': categorical_cols, 'F-Value': f_values, 'P-Value': p_values})\n",
    "anova_results = anova_results.sort_values(by='F-Value', ascending=False)\n",
    "\n",
    "# Display categorical feature importance\n",
    "print(anova_results)\n"
   ]
  },
  {
   "cell_type": "code",
   "execution_count": 14,
   "id": "93c4e524-b189-47c4-a975-c20c6f7d9590",
   "metadata": {},
   "outputs": [],
   "source": [
    "columns_to_remove = [\n",
    "    # Columns directly related to the target (leakage)\n",
    "    \"ArrDelayMinutes\", \"ArrDelay\", \"ArrDel15\", \"ArrivalDelayGroups\", \"ArrTimeBlk\",\n",
    "    \n",
    "    # Columns with unique identifiers or irrelevant information\n",
    "    \"Tail_Number\", \"Flight_Number_Marketing_Airline\", \"Flight_Number_Operating_Airline\",\n",
    "    \"OriginAirportSeqID\", \"DestAirportSeqID\", \"OriginCityMarketID\", \"DestCityMarketID\",\n",
    "    \"OriginStateFips\", \"DestStateFips\", \"OriginWac\", \"DestWac\", \"DOT_ID_Marketing_Airline\",\n",
    "    \"DOT_ID_Operating_Airline\",\"SchdDepTimeOfDay\",\n",
    "    \n",
    "    # Redundant columns (highly correlated with others)\n",
    "    \"DepDelay\", \"DepDel15\", \"DepartureDelayGroups\", \"DepTimeBlk\",\"DivAirportLandings\", \"DistanceGroup\",\n",
    "    \n",
    "    # Columns with duplicate or similar information\n",
    "    \"OriginAirportID\", \"DestAirportID\",  # Use Origin and Dest instead\n",
    "    \"IATA_Code_Marketing_Airline\", \"IATA_Code_Operating_Airline\",  # Use Airline and Operating_Airline instead\n",
    "    \"OriginState\", \"DestState\",  # Use OriginStateName and DestStateName instead\n",
    "    \"Marketing_Airline_Network\", \"Operated_or_Branded_Code_Share_Partners\",  # Use Airline and Operating_Airline instead\n",
    "    \"DepTime\", \"DepDelayMinutes\", \"ArrTime\", \"AirTime\",  # Numerical columns\n",
    "    \"Operating_Airline\", \"OriginCityName\", \"DestCityName\",  # Categorical columns\n",
    "    \"FlightDate\",\"SchdDepTime\",\"SchdElapsedTime\",\"ActualElapsedTime\",\"Distance\"\n",
    "]"
   ]
  },
  {
   "cell_type": "code",
   "execution_count": 15,
   "id": "3dc58498-0421-4378-917c-36b56e8673ae",
   "metadata": {},
   "outputs": [],
   "source": [
    "df = df.drop(columns=columns_to_remove)"
   ]
  },
  {
   "cell_type": "code",
   "execution_count": 16,
   "id": "9f2944b0-da6e-42a7-bb3a-3dac4ebdc40b",
   "metadata": {},
   "outputs": [],
   "source": [
    "col_to_remove=[\"Cancelled\",\"Diverted\",\"OriginStateName\", \"DestStateName\"]\n",
    "df = df.drop(columns=col_to_remove)"
   ]
  },
  {
   "cell_type": "code",
   "execution_count": 17,
   "id": "13ef0a04-5ade-40b4-b7f4-3838162a9886",
   "metadata": {},
   "outputs": [
    {
     "data": {
      "text/plain": [
       "Index(['Airline', 'Origin', 'Dest', 'Year', 'Quarter', 'Month', 'DayofMonth',\n",
       "       'DayOfWeek', 'TaxiOut', 'WheelsOff', 'WheelsOn', 'TaxiIn',\n",
       "       'SchdArrTime', 'SchdDepHour', 'DelayCategory', 'IsWeekend'],\n",
       "      dtype='object')"
      ]
     },
     "execution_count": 17,
     "metadata": {},
     "output_type": "execute_result"
    }
   ],
   "source": [
    "df.columns"
   ]
  },
  {
   "cell_type": "code",
   "execution_count": 19,
   "id": "eeaf3b84-0f4a-4252-85d7-87cc30512c06",
   "metadata": {},
   "outputs": [
    {
     "name": "stdout",
     "output_type": "stream",
     "text": [
      "0                    Endeavor Air Inc.\n",
      "1                    Endeavor Air Inc.\n",
      "2                    Endeavor Air Inc.\n",
      "3                    Endeavor Air Inc.\n",
      "4                    Endeavor Air Inc.\n",
      "                      ...             \n",
      "5578613    Air Wisconsin Airlines Corp\n",
      "5578614    Air Wisconsin Airlines Corp\n",
      "5578615    Air Wisconsin Airlines Corp\n",
      "5578616    Air Wisconsin Airlines Corp\n",
      "5578617    Air Wisconsin Airlines Corp\n",
      "Name: Airline, Length: 5578618, dtype: object\n"
     ]
    }
   ],
   "source": [
    "print(df['Airline'])  # Prints the entire column\n"
   ]
  },
  {
   "cell_type": "code",
   "execution_count": 20,
   "id": "1dd1d29e-5250-4d74-a7c9-ed335045f0b4",
   "metadata": {},
   "outputs": [],
   "source": [
    "categorical_cols = ['Airline', 'Origin', 'Dest', 'SchdDepTimeOfDay']\n",
    "numerical_cols = [\n",
    "    \"SchdDepHour\", \"Year\", \"Quarter\", \"Month\", \"DayofMonth\", \"DayOfWeek\",\n",
    "    \"TaxiOut\", \"WheelsOff\", \"WheelsOn\", \"TaxiIn\", \"SchdArrTime\", \"IsWeekend\"\n",
    "]"
   ]
  },
  {
   "cell_type": "code",
   "execution_count": 21,
   "id": "feadbcf7-2de6-4980-9932-0bbca5c2bae0",
   "metadata": {},
   "outputs": [],
   "source": [
    "X = df.drop(columns=[\"DelayCategory\"])"
   ]
  },
  {
   "cell_type": "code",
   "execution_count": 22,
   "id": "f811a5ca-bef6-49c2-b787-2dc7fdfc80d8",
   "metadata": {},
   "outputs": [
    {
     "data": {
      "text/plain": [
       "Index(['Airline', 'Origin', 'Dest', 'Year', 'Quarter', 'Month', 'DayofMonth',\n",
       "       'DayOfWeek', 'TaxiOut', 'WheelsOff', 'WheelsOn', 'TaxiIn',\n",
       "       'SchdArrTime', 'SchdDepHour', 'IsWeekend', 'SchdDepTimeOfDay'],\n",
       "      dtype='object')"
      ]
     },
     "execution_count": 22,
     "metadata": {},
     "output_type": "execute_result"
    }
   ],
   "source": [
    "X.columns"
   ]
  },
  {
   "cell_type": "code",
   "execution_count": 23,
   "id": "7a0eb983-bee1-4b16-9d1b-0ae2b44a5a21",
   "metadata": {},
   "outputs": [],
   "source": [
    "y = df[\"DelayCategory\"]  # Target"
   ]
  },
  {
   "cell_type": "code",
   "execution_count": 24,
   "id": "01a5a66e-62d8-48f8-a4fd-037e5726415d",
   "metadata": {},
   "outputs": [
    {
     "data": {
      "text/plain": [
       "16"
      ]
     },
     "execution_count": 24,
     "metadata": {},
     "output_type": "execute_result"
    }
   ],
   "source": [
    "len(X.columns)"
   ]
  },
  {
   "cell_type": "code",
   "execution_count": 25,
   "id": "f94ab42f-8333-404e-8668-f05a98019255",
   "metadata": {},
   "outputs": [],
   "source": [
    "import joblib\n"
   ]
  },
  {
   "cell_type": "code",
   "execution_count": 26,
   "id": "235b9981-d18e-43f0-813d-a172086343d2",
   "metadata": {},
   "outputs": [],
   "source": [
    "import pandas as pd\n",
    "from sklearn.model_selection import train_test_split\n",
    "from sklearn.preprocessing import LabelEncoder, OneHotEncoder, StandardScaler\n",
    "from sklearn.compose import ColumnTransformer\n",
    "from sklearn.metrics import classification_report"
   ]
  },
  {
   "cell_type": "code",
   "execution_count": 27,
   "id": "76df7264-b811-4ff2-bec7-eece3d655cdf",
   "metadata": {},
   "outputs": [],
   "source": [
    "X_train, X_test, y_train, y_test = train_test_split(X, y, test_size=0.2, random_state=42)"
   ]
  },
  {
   "cell_type": "code",
   "execution_count": 28,
   "id": "4679f304-affb-4d03-8adb-ae65fca3cf33",
   "metadata": {},
   "outputs": [],
   "source": [
    "# Preprocessing pipeline\n",
    "preprocessor = ColumnTransformer(\n",
    "    transformers=[\n",
    "        (\"num\", StandardScaler(), numerical_cols),  # Scale numerical features\n",
    "        (\"cat\", OneHotEncoder(handle_unknown=\"ignore\"), categorical_cols),  # One-hot encode categorical features\n",
    "    ]\n",
    ")"
   ]
  },
  {
   "cell_type": "code",
   "execution_count": 29,
   "id": "d5f9c54c-ecd9-444a-84ee-0e10762febeb",
   "metadata": {},
   "outputs": [],
   "source": [
    "# Fit on training data\n",
    "X_train = preprocessor.fit_transform(X_train)"
   ]
  },
  {
   "cell_type": "code",
   "execution_count": 32,
   "id": "f0667203-41a1-4197-adab-260b560cc7e5",
   "metadata": {},
   "outputs": [
    {
     "name": "stdout",
     "output_type": "stream",
     "text": [
      "Preprocessor saved as preprocessor.joblib\n"
     ]
    }
   ],
   "source": [
    "import joblib\n",
    "\n",
    "# Save the preprocessor as a .joblib file\n",
    "joblib.dump(preprocessor, \"preprocessor.joblib\")\n",
    "\n",
    "print(\"Preprocessor saved as preprocessor.joblib\")\n"
   ]
  },
  {
   "cell_type": "code",
   "execution_count": 30,
   "id": "e031a363-24c3-408b-924e-0d572649d9d9",
   "metadata": {},
   "outputs": [],
   "source": [
    "# Transform test data\n",
    "X_test = preprocessor.transform(X_test)"
   ]
  },
  {
   "cell_type": "code",
   "execution_count": 31,
   "id": "79cc2b6f-6cd9-4eff-949a-be6de1b64412",
   "metadata": {},
   "outputs": [],
   "source": [
    "# Encode target labels\n",
    "label_encoder = LabelEncoder()\n",
    "y_train = label_encoder.fit_transform(y_train)"
   ]
  },
  {
   "cell_type": "code",
   "execution_count": 35,
   "id": "5a783ba5-590b-4fa1-add5-1b98bd1e738d",
   "metadata": {},
   "outputs": [
    {
     "name": "stdout",
     "output_type": "stream",
     "text": [
      "Label encoder saved as label_encoder.joblib\n"
     ]
    }
   ],
   "source": [
    "import joblib\n",
    "\n",
    "# Save the label encoder as a .joblib file\n",
    "joblib.dump(label_encoder, \"label_encoder.joblib\")\n",
    "\n",
    "print(\"Label encoder saved as label_encoder.joblib\")\n"
   ]
  },
  {
   "cell_type": "code",
   "execution_count": 32,
   "id": "56203b3e-82b7-48a8-af2a-de389aace336",
   "metadata": {},
   "outputs": [],
   "source": [
    "# Transform test labels\n",
    "y_test = label_encoder.transform(y_test)"
   ]
  },
  {
   "cell_type": "code",
   "execution_count": 33,
   "id": "a286adc8-eb8a-45f2-ae97-40411385ea44",
   "metadata": {},
   "outputs": [
    {
     "name": "stdout",
     "output_type": "stream",
     "text": [
      "(4462894, 784) (4462894,) (1115724, 784) (1115724,)\n"
     ]
    }
   ],
   "source": [
    "print(X_train.shape,y_train.shape,X_test.shape,y_test.shape)"
   ]
  },
  {
   "cell_type": "code",
   "execution_count": 34,
   "id": "14092b6c-2b63-4aae-8505-5417f21c98e6",
   "metadata": {},
   "outputs": [
    {
     "data": {
      "text/plain": [
       "{'Long Delay': 0,\n",
       " 'Medium Delay': 1,\n",
       " 'No Delay': 2,\n",
       " 'Short Delay': 3,\n",
       " 'Very Long Delay': 4}"
      ]
     },
     "execution_count": 34,
     "metadata": {},
     "output_type": "execute_result"
    }
   ],
   "source": [
    "label_mapping = {class_label: index for index, class_label in enumerate(label_encoder.classes_)}\n",
    "label_mapping"
   ]
  },
  {
   "cell_type": "code",
   "execution_count": 39,
   "id": "6c9f0f74-11db-4c37-9f74-766cd14a8217",
   "metadata": {},
   "outputs": [
    {
     "name": "stdout",
     "output_type": "stream",
     "text": [
      "Original Label: Long Delay -> Encoded Value: 0\n",
      "Original Label: Medium Delay -> Encoded Value: 1\n",
      "Original Label: No Delay -> Encoded Value: 2\n",
      "Original Label: Short Delay -> Encoded Value: 3\n",
      "Original Label: Very Long Delay -> Encoded Value: 4\n"
     ]
    }
   ],
   "source": [
    "for index, class_label in enumerate(label_encoder.classes_):\n",
    "    print(f\"Original Label: {class_label} -> Encoded Value: {index}\")\n"
   ]
  },
  {
   "cell_type": "code",
   "execution_count": 35,
   "id": "197a6973-db07-40a7-b9d8-11ddd037ce46",
   "metadata": {},
   "outputs": [
    {
     "name": "stdout",
     "output_type": "stream",
     "text": [
      "Collecting xgboost\n",
      "  Downloading xgboost-2.1.4-py3-none-manylinux2014_x86_64.whl.metadata (2.0 kB)\n",
      "Requirement already satisfied: pandas in /home/ec2-user/anaconda3/envs/python3/lib/python3.10/site-packages (1.5.3)\n",
      "Requirement already satisfied: scikit-learn in /home/ec2-user/anaconda3/envs/python3/lib/python3.10/site-packages (1.6.1)\n",
      "Requirement already satisfied: numpy in /home/ec2-user/anaconda3/envs/python3/lib/python3.10/site-packages (from xgboost) (1.26.4)\n",
      "Requirement already satisfied: scipy in /home/ec2-user/anaconda3/envs/python3/lib/python3.10/site-packages (from xgboost) (1.15.1)\n",
      "Requirement already satisfied: python-dateutil>=2.8.1 in /home/ec2-user/anaconda3/envs/python3/lib/python3.10/site-packages (from pandas) (2.9.0.post0)\n",
      "Requirement already satisfied: pytz>=2020.1 in /home/ec2-user/anaconda3/envs/python3/lib/python3.10/site-packages (from pandas) (2024.2)\n",
      "Requirement already satisfied: joblib>=1.2.0 in /home/ec2-user/anaconda3/envs/python3/lib/python3.10/site-packages (from scikit-learn) (1.4.2)\n",
      "Requirement already satisfied: threadpoolctl>=3.1.0 in /home/ec2-user/anaconda3/envs/python3/lib/python3.10/site-packages (from scikit-learn) (3.5.0)\n",
      "Requirement already satisfied: six>=1.5 in /home/ec2-user/anaconda3/envs/python3/lib/python3.10/site-packages (from python-dateutil>=2.8.1->pandas) (1.17.0)\n",
      "Downloading xgboost-2.1.4-py3-none-manylinux2014_x86_64.whl (4.5 MB)\n",
      "\u001b[2K   \u001b[90m━━━━━━━━━━━━━━━━━━━━━━━━━━━━━━━━━━━━━━━━\u001b[0m \u001b[32m4.5/4.5 MB\u001b[0m \u001b[31m145.1 MB/s\u001b[0m eta \u001b[36m0:00:00\u001b[0m\n",
      "Installing collected packages: xgboost\n",
      "Successfully installed xgboost-2.1.4\n",
      "Note: you may need to restart the kernel to use updated packages.\n"
     ]
    }
   ],
   "source": [
    "%pip install xgboost pandas scikit-learn"
   ]
  },
  {
   "cell_type": "code",
   "execution_count": 36,
   "id": "85ad35b9-7246-4918-99f2-e65ddba89ae6",
   "metadata": {},
   "outputs": [
    {
     "name": "stderr",
     "output_type": "stream",
     "text": [
      "/home/ec2-user/anaconda3/envs/python3/lib/python3.10/site-packages/xgboost/core.py:265: FutureWarning: Your system has an old version of glibc (< 2.28). We will stop supporting Linux distros with glibc older than 2.28 after **May 31, 2025**. Please upgrade to a recent Linux distro (with glibc 2.28+) to use future versions of XGBoost.\n",
      "Note: You have installed the 'manylinux2014' variant of XGBoost. Certain features such as GPU algorithms or federated learning are not available. To use these features, please upgrade to a recent Linux distro with glibc 2.28+, and install the 'manylinux_2_28' variant.\n",
      "  warnings.warn(\n"
     ]
    }
   ],
   "source": [
    "from xgboost import XGBClassifier\n",
    "from sklearn.metrics import accuracy_score, classification_report"
   ]
  },
  {
   "cell_type": "code",
   "execution_count": null,
   "id": "d3735a9c-a507-49b7-bf0f-b7335e3c7ae0",
   "metadata": {},
   "outputs": [
    {
     "name": "stderr",
     "output_type": "stream",
     "text": [
      "/home/ec2-user/anaconda3/envs/python3/lib/python3.10/site-packages/xgboost/core.py:158: UserWarning: [08:01:08] WARNING: /workspace/src/learner.cc:740: \n",
      "Parameters: { \"use_label_encoder\" } are not used.\n",
      "\n",
      "  warnings.warn(smsg, UserWarning)\n"
     ]
    }
   ],
   "source": [
    "from xgboost import XGBClassifier\n",
    "from sklearn.utils.class_weight import compute_sample_weight\n",
    "\n",
    "# Compute sample weights\n",
    "sample_weights = compute_sample_weight(class_weight='balanced', y=y_train)\n",
    "\n",
    "# Initialize the model (no scale_pos_weight for multi-class)\n",
    "xgb2 = XGBClassifier(random_state=42, use_label_encoder=False, eval_metric='mlogloss')\n",
    "\n",
    "# Train the model with sample weights\n",
    "xgb2.fit(X_train, y_train, sample_weight=sample_weights)\n"
   ]
  },
  {
   "cell_type": "code",
   "execution_count": 50,
   "id": "ea427fa2-4feb-4aca-a520-a60e64dad8a0",
   "metadata": {},
   "outputs": [
    {
     "name": "stdout",
     "output_type": "stream",
     "text": [
      "XGBoost Accuracy: 0.9229\n",
      "              precision    recall  f1-score   support\n",
      "\n",
      "           0       0.92      0.93      0.93     44524\n",
      "           1       0.82      0.90      0.86     65470\n",
      "           2       0.99      0.93      0.96    801570\n",
      "           3       0.73      0.89      0.80    176493\n",
      "           4       0.97      0.97      0.97     27667\n",
      "\n",
      "    accuracy                           0.92   1115724\n",
      "   macro avg       0.89      0.92      0.90   1115724\n",
      "weighted avg       0.93      0.92      0.93   1115724\n",
      "\n"
     ]
    }
   ],
   "source": [
    "# Predict on the test set\n",
    "y_pred_xgb2 = xgb2.predict(X_test)\n",
    "\n",
    "# Evaluate accuracy\n",
    "accuracy_xgb2 = accuracy_score(y_test, y_pred_xgb2)\n",
    "print(f\"XGBoost Accuracy: {accuracy_xgb2:.4f}\")\n",
    "print(classification_report(y_test, y_pred_xgb2))\n"
   ]
  },
  {
   "cell_type": "code",
   "execution_count": 52,
   "id": "3b28dab6-1786-48dc-bfc1-17ef72fc65ec",
   "metadata": {},
   "outputs": [
    {
     "name": "stdout",
     "output_type": "stream",
     "text": [
      "Confusion Matrix:\n",
      "[[ 41349   2337     10     53    775]\n",
      " [  2580  58966    106   3817      1]\n",
      " [    16    437 746164  54937     16]\n",
      " [    82  10514   9596 156301      0]\n",
      " [   691      6     22      2  26946]]\n"
     ]
    },
    {
     "data": {
      "image/png": "[encoded data removed]",
      "text/plain": [
       "<Figure size 600x500 with 2 Axes>"
      ]
     },
     "metadata": {},
     "output_type": "display_data"
    }
   ],
   "source": [
    "from sklearn.metrics import confusion_matrix, classification_report\n",
    "import seaborn as sns\n",
    "import matplotlib.pyplot as plt\n",
    "\n",
    "# Compute confusion matrix\n",
    "cm = confusion_matrix(y_test, y_pred_xgb2)\n",
    "\n",
    "# Retrieve class labels from the label encoder\n",
    "class_labels = label_encoder.classes_  # Gets the original category names\n",
    "\n",
    "# Print confusion matrix\n",
    "print(\"Confusion Matrix:\")\n",
    "print(cm)\n",
    "\n",
    "# Plot confusion matrix\n",
    "plt.figure(figsize=(6, 5))\n",
    "sns.heatmap(cm, annot=True, fmt='d', cmap='Blues', xticklabels=class_labels, yticklabels=class_labels)\n",
    "plt.xlabel('Predicted')\n",
    "plt.ylabel('Actual')\n",
    "plt.title('Confusion Matrix')\n",
    "plt.show()\n"
   ]
  },
  {
   "cell_type": "code",
   "execution_count": 51,
   "id": "d6fa8ded-9e37-4fb9-8a13-eed0830ba61b",
   "metadata": {},
   "outputs": [
    {
     "name": "stdout",
     "output_type": "stream",
     "text": [
      "Model saved as xgboost2_model.joblib\n"
     ]
    }
   ],
   "source": [
    "import joblib\n",
    "\n",
    "# Save the trained model as a joblib file\n",
    "model_filename = \"xgboost2_model.joblib\"\n",
    "joblib.dump(xgb2, model_filename)\n",
    "\n",
    "print(f\"Model saved as {model_filename}\")\n"
   ]
  },
  {
   "cell_type": "code",
   "execution_count": 53,
   "id": "8ab55c4a-39e4-4da1-aa7c-42c72da4bfbc",
   "metadata": {},
   "outputs": [
    {
     "name": "stdout",
     "output_type": "stream",
     "text": [
      "F1 Score: 0.9260\n"
     ]
    }
   ],
   "source": [
    "from sklearn.metrics import f1_score\n",
    "\n",
    "# Calculate the F1-score\n",
    "f1 = f1_score(y_test, y_pred_xgb2, average=\"weighted\")  # Use 'weighted' for multiclass classification\n",
    "\n",
    "print(f\"F1 Score: {f1:.4f}\")\n"
   ]
  }
 ],
 "metadata": {
  "kernelspec": {
   "display_name": "conda_python3",
   "language": "python",
   "name": "conda_python3"
  },
  "language_info": {
   "codemirror_mode": {
    "name": "ipython",
    "version": 3
   },
   "file_extension": ".py",
   "mimetype": "text/x-python",
   "name": "python",
   "nbconvert_exporter": "python",
   "pygments_lexer": "ipython3",
   "version": "3.10.16"
  }
 },
 "nbformat": 4,
 "nbformat_minor": 5
}
